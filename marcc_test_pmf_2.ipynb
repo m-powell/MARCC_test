{
 "cells": [
  {
   "cell_type": "code",
   "execution_count": null,
   "metadata": {},
   "outputs": [],
   "source": [
    "import numpy as np\n",
    "import pandas as pd\n",
    "\n",
    "# In the following, P(Xj=x|Y=y) is accessed with p_xj_y[y,x].\n",
    "p_x1_y = np.array([[.9, .1], [.1, .9]])\n",
    "p_x2_y = np.array([[.95, .05], [.2, .8]])\n",
    "p_x3_y = np.array([[.99, .01], [.29, .71]])\n",
    "p_x4_y = np.array([[.5, .5], [.5, .5]])\n",
    "p_y = np.array([.5, .5])\n",
    "\n",
    "pmf = np.ones((2**5,6)) * -1\n",
    "\n",
    "pmf_idx = 0\n",
    "for x1 in [0,1]:\n",
    "    for x2 in [0,1]:\n",
    "        for x3 in [0,1]:\n",
    "            for x4 in [0,1]:\n",
    "                for y in [0,1]:\n",
    "                    p = p_x1_y[y, x1] * p_x2_y[y, x2] * p_x3_y[y, x3] * p_x4_y[y, x4] * p_y[y]\n",
    "                    pmf[pmf_idx, :] = np.array([x1, x2, x3, x4, y, p])\n",
    "                    pmf_idx += 1\n",
    "\n",
    "pmf = pd.DataFrame(pmf)\n",
    "pmf.columns = [\"X1\", \"X2\", \"X3\", \"X4\", \"Y\", \"p\"]\n",
    "\n",
    "pmf.to_csv(\"marcc_test_pmf_2.csv\", index = False)"
   ]
  }
 ],
 "metadata": {
  "kernelspec": {
   "display_name": "Python 3",
   "language": "python",
   "name": "python3"
  },
  "language_info": {
   "codemirror_mode": {
    "name": "ipython",
    "version": 3
   },
   "file_extension": ".py",
   "mimetype": "text/x-python",
   "name": "python",
   "nbconvert_exporter": "python",
   "pygments_lexer": "ipython3",
   "version": "3.6.2"
  }
 },
 "nbformat": 4,
 "nbformat_minor": 2
}
